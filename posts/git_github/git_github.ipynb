{
 "cells": [
  {
   "cell_type": "markdown",
   "id": "8c96bd0c-3a7c-4c61-952b-14f0c7aad34d",
   "metadata": {},
   "source": [
    "---\n",
    "title: \"Understanding the Git and Github (Everything you need to know to get started)\"\n",
    "author: \"Mukesh\"\n",
    "date: \"2025-06-11\"\n",
    "image: \"git_learn.png\"\n",
    "categories: [Version Control System, Dev, Data Science, Git, Code]\n",
    "---"
   ]
  },
  {
   "cell_type": "markdown",
   "id": "4464bdd7-0ec6-4a90-9a86-cc1b1912302e",
   "metadata": {},
   "source": [
    "## Version Control System\n",
    "\n",
    "Version Control System simply means we can go the back to version we want to. There are Various version Control system available such as git, CVS, Subversion, Perforce, Bazaar, and so on.\n",
    "\n",
    "```{mermaid}\n",
    "flowchart LR\n",
    "Z[v0]-->A[v1]-->B(v2)-->C(v3)\n",
    "master[Your here] -->C\n",
    "```\n",
    "We are at the version 3 we can go back to we version 2 and made the changes come back. It will be very usefull when we collaborating with many people.\n",
    "\n",
    "```{mermaid}\n",
    "flowchart LR\n",
    "Z[v0]-->A[v1]-->B(v2)-->C(v3)\n",
    "master[Your here] -->B\n",
    "```"
   ]
  },
  {
   "cell_type": "markdown",
   "id": "92811c33-d002-46ed-b6ff-d82084b0758e",
   "metadata": {},
   "source": [
    "## Git and Github\n",
    "\n",
    "We are going to see Git and github(largest host for git repository)\n",
    "\n",
    "### Three states of git\n",
    "1. Modified (Files you are Modified)\n",
    "1. staged (Modified file are taked out to store in local database)\n",
    "1. commit (Staged files are stored in local database)"
   ]
  },
  {
   "cell_type": "markdown",
   "id": "63a5d738-9089-412d-85cc-8ae941fea531",
   "metadata": {},
   "source": [
    "### Installation\n",
    "- Install the [git](https://git-scm.com/downloads) based on your operating system.\n",
    "- Create a [github](https://github.com/signup?source=login) account.\n",
    "\n",
    "*It is Straight forward, if you are having problem in installing feel free to ask.*"
   ]
  },
  {
   "cell_type": "markdown",
   "id": "f5f3f5e0-ffa1-481a-bbf2-c7a732f0e663",
   "metadata": {},
   "source": [
    "#### Initial Config\n",
    "```\n",
    "$ git config --global user.name \"Your Name\"\n",
    "$ git config --global user.email yourname@example.com\n",
    "```\n",
    "You can also config your editor, if you just starting out start with notepad for better understanding of concepts."
   ]
  },
  {
   "cell_type": "markdown",
   "id": "2cf8f50e-4dbc-432f-98b6-8ae6ec6ae975",
   "metadata": {},
   "source": [
    "## Git Basics\n",
    "If your are beginner feel free to follow along with me. Once your comfortable you can create your own repository and test it out what you are learned.\n",
    "*repository(repo) - Nothing but a folder*\n",
    "\n",
    "#### Basic Commands\n",
    "- ls -> list the file or folder in that region\n",
    "- ls -a ->(list the hidden files) it work on the linux\n",
    "- mkdir <folder name> -> create a new folder\n",
    "- cd -> change the directory or get in to the directory\n",
    "- rm <file name>-> , rm -r <folder name> recursively remove everything"
   ]
  },
  {
   "cell_type": "markdown",
   "id": "24539106-f705-466f-a786-ce3e1525a3ed",
   "metadata": {},
   "source": [
    "### Git Initialization, stage, commit\n",
    "\n",
    "#### Git Initialization\n",
    "- mkdir understand_git -> Create a folder with name understand_git\n",
    "- cd understand_git -> get into the understand_git folder\n",
    "- git init -> initialize the git in the folder\n",
    "    - ls -a -> if you want to look out what what it initialized is .git(It work on linux)\n",
    "    \n",
    "#### Git stage\n",
    "- Create a README.md file in the repo. And write a sentence like this is about understanding git.\n",
    "- git status -> Check the status of file. It shows on master branch and README.md file as untracked file.\n",
    "- git add . or git add * (If you want to particular file -> git add README.md)\n",
    "\n",
    "#### Git Commit\n",
    "- Check the status(git status) untracked file become become tracked(File colour changed from red to green)\n",
    "- git commit -m \"Inital commit\" (-m is the message for our local storage in case we want to go back it will be very usefull)\n",
    "- git status -> Branch is clean nothing to commit\n",
    "    - git status -s (Short status for the track)"
   ]
  },
  {
   "cell_type": "markdown",
   "id": "86c85c26-0b98-48ce-9507-3f804b820f44",
   "metadata": {},
   "source": [
    "### Ignoring files/folder\n",
    "There are few file/folder like cache, log, etc. We don't need to maintain history or track for that type of file and we can ignore from tracking by creating .gitignore file and add the name of the file or folder to ignore. We can also use Regular expression to ignore file"
   ]
  },
  {
   "cell_type": "markdown",
   "id": "9e2e73e3-e9b1-49e9-8178-ecdcca9a5419",
   "metadata": {},
   "source": [
    "### Staged and Unstaged changes\n",
    "- let's open a README.md file and add the second line like git is a powerfull tool\n",
    "- git status will show the file is modified\n",
    "- git diff -> Shows the what is modified from the last commit\n",
    "- git diff --staged or git diff --cached -> What are change in the staged file difference from the previous commit"
   ]
  },
  {
   "cell_type": "markdown",
   "id": "edeb009c-9cf1-4064-9869-85445a90814b",
   "metadata": {},
   "source": [
    "### Skipping the staging area.\n",
    "#### If you also skip the staging area and directly stage and commit\n",
    "- Add a line in README.md like github is amazing.\n",
    "- git commit -am \"Let's skip the stagging area\" or git commit -a -m \"Let's skip the stagging area\".\n",
    "- Use it carefully sometime we don't want to add every changes in every file."
   ]
  },
  {
   "cell_type": "markdown",
   "id": "0dadc19b-ea14-4a19-84a6-552e9e32b8af",
   "metadata": {},
   "source": [
    "### Unstage the staged file\n",
    "#### If you are accidently staged some file and want to unstage the file \n",
    "- create a text file called file_1.txt and add a line like nature is amazing \n",
    "- git add . -> it adds the file to the staging area and you accidently added that file for staging\n",
    "- git rm --cached file_1.txt -> it will unstage the file_1.txt \n",
    "- you can also do it by (git reset file_1.txt)"
   ]
  },
  {
   "cell_type": "markdown",
   "id": "8ba09dee-f6c2-478a-b52b-21ae7dc878e6",
   "metadata": {},
   "source": [
    "### Log\n",
    "- git log -> Gives the commit history(It is very much usefull when we want to roll back) \n",
    "- git log --stat -> Gives the commit history with changes"
   ]
  },
  {
   "cell_type": "markdown",
   "id": "9dc04c44-5bff-4bcb-b7e8-795e5b4c9a21",
   "metadata": {},
   "source": [
    "### Undoing the commit message \n",
    "- If you mess up with your commit message you can go back and edit the message.\n",
    "- Open README.md add text in a new line like i love programming\n",
    "- git add .\n",
    "- git commit -m \"added\"\n",
    "- you just added the message as added so i want message as added a new line\n",
    "- git commit --amend -> It will open message prompt to re-enter your commit message."
   ]
  },
  {
   "cell_type": "markdown",
   "id": "da1fed2a-c69d-407e-9940-a83ce9fdfac6",
   "metadata": {},
   "source": [
    "### Unmodifying a modified file \n",
    "- Open README.md add text in a new line like Python is great\n",
    "- Check the git status, README.md is modified \n",
    "- git checkout -- README.md -> it will roll back the modified file."
   ]
  },
  {
   "cell_type": "markdown",
   "id": "c7c4d8d3-05df-4230-9bee-8700fa4a128c",
   "metadata": {},
   "source": [
    "### Git restore \n",
    "- git restore --staged file_name -> Unstage the staged file\n",
    "- git restore file_name -> Unmodifying the modified file\n",
    "\n",
    "#### What to use?\n",
    "- git reset or git cached or git restore - I will suggest git restore because it is powerfull than others"
   ]
  },
  {
   "cell_type": "markdown",
   "id": "5fbd2924-c7d8-4441-b1a1-f6ac7df0a7ac",
   "metadata": {},
   "source": [
    "## Git Branching and Github"
   ]
  },
  {
   "cell_type": "markdown",
   "id": "08c04a63-220b-474a-8230-67d8fe17654b",
   "metadata": {},
   "source": [
    "### Github Intro\n",
    "- Github largest host of git repo- Hope you already created that account if your are following this.\n",
    "- For practice purpose i will create a understanding_git repo in my github you can fork it follow along and i will merge your pull request.\n",
    "- Github uses main instead of master branch from few year back you can also configure from name as main/master"
   ]
  },
  {
   "cell_type": "markdown",
   "id": "e88d13df-e918-4135-a380-6ff7d727682f",
   "metadata": {},
   "source": [
    "### Git branching\n",
    "Before deep diving in to the branches let understand few basics.\n",
    "- You are not able to directly commit on the project of the team/Organization. \n",
    "- First you need a copy of the project in your repo just click the fork of this [project](https://github.com/MUKESHRAJMAHENDRAN/understanding_git) at the right side here.\n",
    "- Once it forked copy the url from the code dropdown or repo url.\n",
    "- git clone url -> This command will copy the repo in the local."
   ]
  },
  {
   "cell_type": "markdown",
   "id": "6c27cfa8-8c1a-4bef-96ba-64ddaf4a3dba",
   "metadata": {},
   "source": [
    "::: {.callout-warning}\n",
    "## Create a new branch Once cloned\n",
    "\n",
    "- Never ever commit on the master/main branch\n",
    "- New branch new issue\n",
    ":::"
   ]
  },
  {
   "cell_type": "markdown",
   "id": "c0cb7f7a-1737-4640-8336-1008344a0956",
   "metadata": {},
   "source": [
    "### Contribution to a project\n",
    "1. I test the every command so anything not working create an issue [here](https://github.com/MUKESHRAJMAHENDRAN/understanding_git/issues)\n",
    "1. git remote upstream https://github.com/MUKESHRAJMAHENDRAN/understanding_git (This will add origin of the forked repo)\n",
    "1. git branch inspired_line -> Create a new branch\n",
    "1. git checkout inspired_line\n",
    "1. add your line on the quote.txt\n",
    "1. git add .\n",
    "1. git commit -m \"Added the line\"\n",
    "1. git checkout main\n",
    "1. git pull upstream main -> If any change are commited on the parent main branch that with sync with main branch of the local\n",
    "1. git merge inspired_line (It open message prompt and type what merge message is all about)\n",
    "1. git push origin main\n",
    "1. Once pushed go to your repo of understanding_git from the contribution create a open pull request i will merge it\n",
    "1. Once merged delete the branch name\n",
    "1. git branch -d inspired_line"
   ]
  },
  {
   "cell_type": "markdown",
   "id": "91ba5665-537e-4df9-925a-0c616249fb6d",
   "metadata": {},
   "source": [
    "This blog is just a fuel to kick to get starting there are so much things to learn from git and github like Git Rebase, merge conflict, cherry pick, git on the server, distribution of git, branch Workflow, etc.We will learn in the upcomming post."
   ]
  },
  {
   "cell_type": "code",
   "execution_count": null,
   "id": "68cfd713-9061-4032-8b04-d1f1dc9253ce",
   "metadata": {},
   "outputs": [],
   "source": []
  }
 ],
 "metadata": {
  "kernelspec": {
   "display_name": "python3",
   "language": "python",
   "name": "python3"
  }
 },
 "nbformat": 4,
 "nbformat_minor": 5
}
